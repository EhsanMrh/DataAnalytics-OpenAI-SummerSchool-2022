{
 "cells": [
  {
   "cell_type": "markdown",
   "metadata": {},
   "source": [
    "# Hands-on 3"
   ]
  },
  {
   "cell_type": "markdown",
   "metadata": {},
   "source": [
    "**Execute the cell below. By running this cell, a dataset will be loaded from `patents_small.csv` file. In this notebook, you are asked to analyze this data in several ways. There are three numpy arrays in this dataset:**\n",
    "- `patent_number`: a unique identifier for each patetnt\n",
    "- `patent features`: a vector of 16 features describing several properties of each patent\n",
    "- `category`: the category to which a patent belongs "
   ]
  },
  {
   "cell_type": "code",
   "execution_count": 1,
   "metadata": {},
   "outputs": [],
   "source": [
    "import pandas as pd\n",
    "import numpy as np\n",
    "\n",
    "df = pd.read_csv('patents.csv')\n",
    "df.head()\n",
    "patent_number = df['publication_number'].to_numpy()\n",
    "patent_features = df['patent_embedding'].to_numpy()\n",
    "temp = []\n",
    "for i in range(patent_features.size):\n",
    "    s = str(patent_features[i])\n",
    "    s1 = s.replace(r'\\n', '')\n",
    "    temp.append(\n",
    "        np.array(s.split()[1:-1], dtype='float')[:16]\n",
    "    )\n",
    "\n",
    "patent_features = np.stack(temp)\n",
    "patent_category = df['category']"
   ]
  },
  {
   "cell_type": "code",
   "execution_count": 19,
   "metadata": {},
   "outputs": [
    {
     "data": {
      "text/html": [
       "<div>\n",
       "<style scoped>\n",
       "    .dataframe tbody tr th:only-of-type {\n",
       "        vertical-align: middle;\n",
       "    }\n",
       "\n",
       "    .dataframe tbody tr th {\n",
       "        vertical-align: top;\n",
       "    }\n",
       "\n",
       "    .dataframe thead th {\n",
       "        text-align: right;\n",
       "    }\n",
       "</style>\n",
       "<table border=\"1\" class=\"dataframe\">\n",
       "  <thead>\n",
       "    <tr style=\"text-align: right;\">\n",
       "      <th></th>\n",
       "      <th>publication_number</th>\n",
       "      <th>title</th>\n",
       "      <th>cpc_code</th>\n",
       "      <th>patent_embedding</th>\n",
       "      <th>category</th>\n",
       "    </tr>\n",
       "  </thead>\n",
       "  <tbody>\n",
       "    <tr>\n",
       "      <th>0</th>\n",
       "      <td>US-2019250858-A1</td>\n",
       "      <td>memory controller and operating method thereof</td>\n",
       "      <td>G06F3/061</td>\n",
       "      <td>[ 0.00135472  0.01564001 -0.04858465  0.039866...</td>\n",
       "      <td>1</td>\n",
       "    </tr>\n",
       "    <tr>\n",
       "      <th>1</th>\n",
       "      <td>US-1000462-A</td>\n",
       "      <td>corn planter</td>\n",
       "      <td>A01C9/00</td>\n",
       "      <td>[-4.44490612e-02  2.48770583e-02 -5.62837869e-...</td>\n",
       "      <td>6</td>\n",
       "    </tr>\n",
       "    <tr>\n",
       "      <th>2</th>\n",
       "      <td>KR-200146416-Y1</td>\n",
       "      <td>antitheft vehicle security system</td>\n",
       "      <td>B60R25/209</td>\n",
       "      <td>[-2.53110677e-02 -2.04547048e-02  8.63679312e-...</td>\n",
       "      <td>0</td>\n",
       "    </tr>\n",
       "    <tr>\n",
       "      <th>3</th>\n",
       "      <td>KR-0160422-B1</td>\n",
       "      <td>a door opening and shutting apparatus and meth...</td>\n",
       "      <td>D06F37/42</td>\n",
       "      <td>[ 1.21761542e-02  1.97522007e-02 -6.62921891e-...</td>\n",
       "      <td>1</td>\n",
       "    </tr>\n",
       "    <tr>\n",
       "      <th>4</th>\n",
       "      <td>US-952306-A</td>\n",
       "      <td>spray burner</td>\n",
       "      <td>B05B1/3033</td>\n",
       "      <td>[-0.00214472  0.01606156 -0.09518531  0.060160...</td>\n",
       "      <td>0</td>\n",
       "    </tr>\n",
       "  </tbody>\n",
       "</table>\n",
       "</div>"
      ],
      "text/plain": [
       "  publication_number                                              title  \\\n",
       "0   US-2019250858-A1     memory controller and operating method thereof   \n",
       "1       US-1000462-A                                       corn planter   \n",
       "2    KR-200146416-Y1                  antitheft vehicle security system   \n",
       "3      KR-0160422-B1  a door opening and shutting apparatus and meth...   \n",
       "4        US-952306-A                                       spray burner   \n",
       "\n",
       "     cpc_code                                   patent_embedding  category  \n",
       "0   G06F3/061  [ 0.00135472  0.01564001 -0.04858465  0.039866...         1  \n",
       "1    A01C9/00  [-4.44490612e-02  2.48770583e-02 -5.62837869e-...         6  \n",
       "2  B60R25/209  [-2.53110677e-02 -2.04547048e-02  8.63679312e-...         0  \n",
       "3   D06F37/42  [ 1.21761542e-02  1.97522007e-02 -6.62921891e-...         1  \n",
       "4  B05B1/3033  [-0.00214472  0.01606156 -0.09518531  0.060160...         0  "
      ]
     },
     "execution_count": 19,
     "metadata": {},
     "output_type": "execute_result"
    }
   ],
   "source": [
    "df.head()"
   ]
  },
  {
   "cell_type": "code",
   "execution_count": 30,
   "metadata": {},
   "outputs": [
    {
     "data": {
      "text/plain": [
       "array(['US-2019250858-A1', 'US-1000462-A', 'KR-200146416-Y1', ...,\n",
       "       'CA-2952951-A1', 'CH-608317-A', 'CN-100513251-C'], dtype=object)"
      ]
     },
     "execution_count": 30,
     "metadata": {},
     "output_type": "execute_result"
    }
   ],
   "source": [
    "patent_number\n",
    "patent_features\n",
    "patent_category"
   ]
  },
  {
   "cell_type": "markdown",
   "metadata": {},
   "source": [
    "<hr />"
   ]
  },
  {
   "cell_type": "markdown",
   "metadata": {},
   "source": [
    "#### 1- Which patent has the highest norm? (Eucledian distance from origin)\n"
   ]
  },
  {
   "cell_type": "code",
   "execution_count": 2,
   "metadata": {},
   "outputs": [
    {
     "data": {
      "text/html": [
       "<div>\n",
       "<style scoped>\n",
       "    .dataframe tbody tr th:only-of-type {\n",
       "        vertical-align: middle;\n",
       "    }\n",
       "\n",
       "    .dataframe tbody tr th {\n",
       "        vertical-align: top;\n",
       "    }\n",
       "\n",
       "    .dataframe thead th {\n",
       "        text-align: right;\n",
       "    }\n",
       "</style>\n",
       "<table border=\"1\" class=\"dataframe\">\n",
       "  <thead>\n",
       "    <tr style=\"text-align: right;\">\n",
       "      <th></th>\n",
       "      <th>publication_number</th>\n",
       "      <th>title</th>\n",
       "      <th>cpc_code</th>\n",
       "      <th>patent_embedding</th>\n",
       "      <th>category</th>\n",
       "      <th>norms</th>\n",
       "    </tr>\n",
       "  </thead>\n",
       "  <tbody>\n",
       "    <tr>\n",
       "      <th>10839</th>\n",
       "      <td>CH-527846-A</td>\n",
       "      <td>penicillanylaldehydes</td>\n",
       "      <td>C07D499/00</td>\n",
       "      <td>[-1.58957148e-03  3.83572765e-02 -1.47625625e-...</td>\n",
       "      <td>5</td>\n",
       "      <td>0.353081</td>\n",
       "    </tr>\n",
       "  </tbody>\n",
       "</table>\n",
       "</div>"
      ],
      "text/plain": [
       "      publication_number                  title    cpc_code  \\\n",
       "10839        CH-527846-A  penicillanylaldehydes  C07D499/00   \n",
       "\n",
       "                                        patent_embedding  category     norms  \n",
       "10839  [-1.58957148e-03  3.83572765e-02 -1.47625625e-...         5  0.353081  "
      ]
     },
     "execution_count": 2,
     "metadata": {},
     "output_type": "execute_result"
    }
   ],
   "source": [
    "df['norms'] = np.linalg.norm(patent_features, axis=1)\n",
    "df[df['norms'] == df['norms'].max()]"
   ]
  },
  {
   "cell_type": "markdown",
   "metadata": {},
   "source": [
    "#### 2- Find the two patents that are the farthest from eachother."
   ]
  },
  {
   "cell_type": "code",
   "execution_count": 4,
   "metadata": {},
   "outputs": [
    {
     "data": {
      "text/plain": [
       "0.5612983586484407"
      ]
     },
     "execution_count": 4,
     "metadata": {},
     "output_type": "execute_result"
    }
   ],
   "source": [
    "from scipy.spatial.distance import cdist\n",
    "\n",
    "dist = cdist(patent_features, patent_features)\n",
    "\n",
    "dist.max()"
   ]
  },
  {
   "cell_type": "code",
   "execution_count": 5,
   "metadata": {},
   "outputs": [
    {
     "data": {
      "text/plain": [
       "(1661, 9236)"
      ]
     },
     "execution_count": 5,
     "metadata": {},
     "output_type": "execute_result"
    }
   ],
   "source": [
    "\n",
    "np.where(dist==0.5612983586484407)\n",
    "\n",
    "np.unravel_index(dist.argmax(), dist.shape)\n"
   ]
  },
  {
   "cell_type": "markdown",
   "metadata": {},
   "source": [
    "#### 3- Write a function that, given a patent number, finds its nearest neighbour.\n"
   ]
  },
  {
   "cell_type": "code",
   "execution_count": 8,
   "metadata": {},
   "outputs": [
    {
     "data": {
      "text/plain": [
       "array([[       inf, 0.245627  , 0.26009143, ..., 0.19460144, 0.20385974,\n",
       "        0.21932892],\n",
       "       [0.245627  ,        inf, 0.22291979, ..., 0.19293961, 0.15229353,\n",
       "        0.19206826],\n",
       "       [0.26009143, 0.22291979,        inf, ..., 0.14702509, 0.15017255,\n",
       "        0.13727286],\n",
       "       ...,\n",
       "       [0.19460144, 0.19293961, 0.14702509, ...,        inf, 0.09981435,\n",
       "        0.09973816],\n",
       "       [0.20385974, 0.15229353, 0.15017255, ..., 0.09981435,        inf,\n",
       "        0.09281058],\n",
       "       [0.21932892, 0.19206826, 0.13727286, ..., 0.09973816, 0.09281058,\n",
       "               inf]])"
      ]
     },
     "execution_count": 8,
     "metadata": {},
     "output_type": "execute_result"
    }
   ],
   "source": [
    "find_min_dist = cdist(patent_features, patent_features)\n",
    "find_min_dist[find_min_dist == 0] = np.Infinity\n",
    "\n",
    "find_min_dist"
   ]
  },
  {
   "cell_type": "code",
   "execution_count": 39,
   "metadata": {},
   "outputs": [
    {
     "data": {
      "text/plain": [
       "8329"
      ]
     },
     "execution_count": 39,
     "metadata": {},
     "output_type": "execute_result"
    }
   ],
   "source": [
    "from scipy.spatial.distance import cdist\n",
    "\n",
    "\n",
    "def find_nearest_neighbour(pat_number):\n",
    "    idx_pat_number = np.where(df['publication_number'] == pat_number)[0][0]\n",
    "\n",
    "    with_argsort = np.argsort(find_min_dist[idx_pat_number])[0]\n",
    "    # with_argmin = np.unravel_index(find_min_dist[idx_pat_number].argmin(), find_min_dist.shape)[1]\n",
    "\n",
    "    return with_argsort\n",
    "\n",
    "\n",
    "nearest_neighbour = find_nearest_neighbour(\"KR-200146416-Y1\")\n",
    "\n",
    "nearest_neighbour"
   ]
  },
  {
   "cell_type": "code",
   "execution_count": null,
   "metadata": {},
   "outputs": [
    {
     "name": "stdout",
     "output_type": "stream",
     "text": [
      "(array([10839]),)\n"
     ]
    }
   ],
   "source": [
    "dists = cdist(patent_features, patent_features)"
   ]
  },
  {
   "cell_type": "markdown",
   "metadata": {},
   "source": [
    "#### 4- For each patent category, find the cluster center. This quantity is computed by taking average of all patents associated with each cluster."
   ]
  },
  {
   "cell_type": "code",
   "execution_count": 29,
   "metadata": {},
   "outputs": [
    {
     "name": "stdout",
     "output_type": "stream",
     "text": [
      "defaultdict(<class 'list'>, {})\n"
     ]
    },
    {
     "data": {
      "text/plain": [
       "defaultdict(list,\n",
       "            {0: array([ 0.01086092, -0.02427292,  0.06917166, -0.04593048, -0.02812299,\n",
       "                    -0.0124727 , -0.04987288,  0.00655626,  0.0098301 , -0.01550384,\n",
       "                     0.00122531,  0.00426678,  0.00017979,  0.02210309, -0.02753392,\n",
       "                    -0.00829946]),\n",
       "             1: array([ 0.01021772,  0.0140427 , -0.03571764,  0.05286253, -0.04302765,\n",
       "                    -0.00263517,  0.02233755, -0.04675915,  0.01272022,  0.03165236,\n",
       "                     0.01146286, -0.00024609,  0.01377522,  0.00555212,  0.02024696,\n",
       "                    -0.04467966]),\n",
       "             2: array([ 0.01844678,  0.00991557, -0.05545595,  0.02615103, -0.07078419,\n",
       "                    -0.0115121 ,  0.04539117, -0.05906673, -0.02173693,  0.00203886,\n",
       "                     0.00052992,  0.02329754, -0.03247548,  0.03103352,  0.0140693 ,\n",
       "                    -0.06104154]),\n",
       "             3: array([ 0.01717531,  0.01595333, -0.03129371,  0.05920419, -0.05942006,\n",
       "                    -0.03559038, -0.01542298, -0.05486974,  0.00243557,  0.004506  ,\n",
       "                    -0.02005723,  0.00059813, -0.00323446,  0.00388401,  0.01666861,\n",
       "                    -0.02052029]),\n",
       "             4: array([ 0.01498087,  0.02345642, -0.00569218,  0.04002896, -0.03471142,\n",
       "                     0.00468704,  0.01612199, -0.03838371,  0.00732594,  0.00352215,\n",
       "                     0.00011503,  0.01232852, -0.01395763,  0.00333184,  0.04570635,\n",
       "                    -0.0292569 ]),\n",
       "             5: array([ 8.79519076e-03, -4.88311352e-02,  2.29908733e-02, -5.66476866e-02,\n",
       "                    -9.19576819e-03,  4.12041488e-02, -5.63686219e-02, -1.33915669e-02,\n",
       "                     1.58014840e-02,  1.14049335e-05,  1.64819622e-02, -2.36509750e-02,\n",
       "                     1.72316331e-02,  2.15542465e-02, -5.94789040e-02, -1.30144330e-02]),\n",
       "             6: array([ 0.01211396, -0.0304879 ,  0.05560378, -0.03702774,  0.00110319,\n",
       "                     0.01892597, -0.04493763,  0.01639101,  0.03405147,  0.01160055,\n",
       "                    -0.0039251 ,  0.01961012,  0.0012078 ,  0.02051051, -0.04779424,\n",
       "                    -0.01136447]),\n",
       "             7: array([ 0.02380652, -0.00299412,  0.0480317 , -0.03110474,  0.00233771,\n",
       "                     0.0145927 , -0.0331035 ,  0.00962097,  0.00774661,  0.00056323,\n",
       "                     0.01158552, -0.00853263,  0.00206507,  0.04807342, -0.03418843,\n",
       "                     0.00104518])})"
      ]
     },
     "execution_count": 29,
     "metadata": {},
     "output_type": "execute_result"
    }
   ],
   "source": [
    "from collections import defaultdict\n",
    "\n",
    "\n",
    "cat = np.unique(patent_category)\n",
    "\n",
    "cluster_centers = defaultdict(list)\n",
    "\n",
    "print(cluster_centers)\n",
    "\n",
    "for k in cat:\n",
    "    points = patent_features[patent_category==k]\n",
    "\n",
    "    cluster_centers[k] = np.mean(points, axis=0)\n",
    "\n",
    "\n",
    "cluster_centers\n"
   ]
  },
  {
   "cell_type": "markdown",
   "metadata": {},
   "source": [
    "5- How many patents have a nearest neighbour that is in the same category?"
   ]
  },
  {
   "cell_type": "code",
   "execution_count": 42,
   "metadata": {},
   "outputs": [
    {
     "data": {
      "text/plain": [
       "12927"
      ]
     },
     "execution_count": 42,
     "metadata": {},
     "output_type": "execute_result"
    }
   ],
   "source": [
    "nearest_neighbor_category = []\n",
    "for patent in patent_number:\n",
    "    nearest_patent = find_nearest_neighbour(patent)\n",
    "    nearest_category = patent_category[nearest_patent]\n",
    "    nearest_neighbor_category.append(nearest_category)\n",
    "\n",
    "nearest_neighbor_category = np.array(nearest_neighbor_category)\n",
    "result = np.sum(patent_category == nearest_neighbor_category)\n",
    "print(result)"
   ]
  },
  {
   "cell_type": "markdown",
   "metadata": {},
   "source": [
    "#### 6- What is the average and std of distances between every pair of patents?\n"
   ]
  },
  {
   "cell_type": "code",
   "execution_count": 44,
   "metadata": {},
   "outputs": [
    {
     "name": "stdout",
     "output_type": "stream",
     "text": [
      "Mean:  0.1774779588870755\n",
      "STD:  0.06172153433074445\n"
     ]
    }
   ],
   "source": [
    "dists = cdist(patent_features, patent_features)\n",
    "mean_pair_distance = np.mean(dists)\n",
    "std_pair_distance = np.std(dists)\n",
    "\n",
    "print(\"Mean: \", mean_pair_distance)\n",
    "print(\"STD: \", std_pair_distance)\n"
   ]
  },
  {
   "cell_type": "markdown",
   "metadata": {},
   "source": [
    "#### 7- What is the average and std of distances between every pair of patents within a category? Using these calculated quantities, which cluster do you think is more condensed? Which one is more scattered?"
   ]
  },
  {
   "cell_type": "code",
   "execution_count": 45,
   "metadata": {},
   "outputs": [
    {
     "name": "stdout",
     "output_type": "stream",
     "text": [
      "[0.10235593475072612, 0.1040055310233456, 0.13098792252469746, 0.14095499322691948, 0.13610883703695129, 0.13874011203724912, 0.13052366960262599, 0.13459851471369638]\n",
      "[0.030560683465341895, 0.03180215536017749, 0.03973015614729102, 0.04403433221841342, 0.04026897604426641, 0.04483107158434705, 0.03853325352892595, 0.04241648037596702]\n",
      "the most scattered cluster:  3\n",
      "the most condensed cluster:  0\n"
     ]
    }
   ],
   "source": [
    "distance_means, distance_stds = [], []\n",
    "for i in patent_category.unique():\n",
    "    cat_patents = patent_features[patent_category==i]\n",
    "    within_pair_distance = cdist(cat_patents, cat_patents)\n",
    "    distance_means.append(\n",
    "        np.mean(within_pair_distance)\n",
    "    )\n",
    "    distance_stds.append(\n",
    "        np.std(within_pair_distance)\n",
    "    )\n",
    "\n",
    "print(distance_means)\n",
    "print(distance_stds)\n",
    "print('the most scattered cluster: ', np.argmax(distance_means))\n",
    "print('the most condensed cluster: ', np.argmin(distance_means))"
   ]
  }
 ],
 "metadata": {
  "kernelspec": {
   "display_name": "Python 3.9.12 ('base')",
   "language": "python",
   "name": "python3"
  },
  "language_info": {
   "codemirror_mode": {
    "name": "ipython",
    "version": 3
   },
   "file_extension": ".py",
   "mimetype": "text/x-python",
   "name": "python",
   "nbconvert_exporter": "python",
   "pygments_lexer": "ipython3",
   "version": "3.9.12"
  },
  "orig_nbformat": 4,
  "vscode": {
   "interpreter": {
    "hash": "341e0318612e13d2caac249865d6880347062171b89016abd70f7ef667022a97"
   }
  }
 },
 "nbformat": 4,
 "nbformat_minor": 2
}
