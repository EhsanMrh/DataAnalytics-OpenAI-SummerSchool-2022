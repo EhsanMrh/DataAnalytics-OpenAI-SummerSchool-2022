{
 "cells": [
  {
   "cell_type": "code",
   "execution_count": 20,
   "id": "6505e988",
   "metadata": {},
   "outputs": [],
   "source": [
    "import numpy as np\n",
    "from datetime import datetime, timedelta\n",
    "import scipy.spatial.distance as ssd\n",
    "import matplotlib.pyplot as plt\n",
    "\n",
    "from collections import defaultdict\n"
   ]
  },
  {
   "cell_type": "code",
   "execution_count": 21,
   "id": "1186cf64",
   "metadata": {},
   "outputs": [],
   "source": [
    "import json\n",
    "  \n",
    "# read json data file\n",
    "f=open('taxi_requests.json')\n",
    "data = json.load(f)\n",
    "f.close()\n",
    "\n",
    "login_times=data['request_time']\n",
    "\n",
    "# uncomment next line to see how the data looks like\n",
    "# display(login_times) "
   ]
  },
  {
   "cell_type": "code",
   "execution_count": 22,
   "id": "069b2bd7",
   "metadata": {},
   "outputs": [
    {
     "data": {
      "text/plain": [
       "93142"
      ]
     },
     "execution_count": 22,
     "metadata": {},
     "output_type": "execute_result"
    }
   ],
   "source": [
    "len(login_times)"
   ]
  },
  {
   "cell_type": "code",
   "execution_count": 23,
   "id": "32d35eb7",
   "metadata": {},
   "outputs": [
    {
     "name": "stdout",
     "output_type": "stream",
     "text": [
      "[60198.0, 60370.0, 60397.0, 60396.0, 60981.0]\n"
     ]
    }
   ],
   "source": [
    "# convert time string to timestamps\n",
    "timestamps=[datetime.strptime(login_times[i], '%Y-%m-%d %H:%M:%S').timestamp() for i in range(len(login_times))]\n",
    "\n",
    "print(timestamps[:5])"
   ]
  },
  {
   "cell_type": "code",
   "execution_count": 24,
   "id": "1ae495f8",
   "metadata": {},
   "outputs": [
    {
     "data": {
      "text/plain": [
       "list"
      ]
     },
     "execution_count": 24,
     "metadata": {},
     "output_type": "execute_result"
    }
   ],
   "source": [
    "type(timestamps)"
   ]
  },
  {
   "cell_type": "markdown",
   "id": "d11ea248",
   "metadata": {},
   "source": [
    "# Written questions\n",
    "\n",
    "Please search online and read the documentation for strptime() and timestamp() and write down short answers to the following questions:\n",
    "\n",
    "A- What does the previous cell do? \n",
    "\n",
    "    * At first, it has used for-loop to operate on all dates. After that, it used strptime() to convert the dates in string type to datetime objects. Eventually, it used timestamp() to convert datetimes to timestamp format.\n",
    "\n",
    "B- What does the concept of \"timestamp\" mean? What are its type and unit?\n",
    "    \n",
    "    * A timestamp is encoded information about the time used in Unix. A timestamp indicates the date and time of a specific event that has occurred. This information could be accurate to the microseconds.\n",
    "    * Unix time indicates a point in time. This number is actually the number of seconds that have passed since the Unix epoch, minus the leap seconds(From 1 January 1970). \n",
    "    * The timestamp function reterns a number with float type. Actually, it's a POSIX timestamp corresponding to the datetime instance.\n",
    "    * The unit of timestamp is second\n",
    "\n",
    "C- Is the variable \"timestamps\" a list or a numpy array?\n",
    "\n",
    "    * It's a list\n",
    "\n",
    "D- Which day of week (Sunday, Monday, ...) is 1970-01-01?\n",
    "\n",
    "    * It was Thursday\n",
    "\n",
    "E- Which function can convert a timestamp back to datetime?\n",
    "\n",
    "    * date_obj = datetime.fromtimestamp(timestamp)\n"
   ]
  },
  {
   "cell_type": "code",
   "execution_count": 25,
   "id": "e37acae3",
   "metadata": {},
   "outputs": [],
   "source": [
    "day_of_week = {0: 'Monday',\n",
    "                1: 'Tuesday',\n",
    "                2: 'Wednesday',\n",
    "                3: 'Thursday',\n",
    "                4: 'Friday',\n",
    "                5: 'Saturday',\n",
    "                6: 'Sunday'}"
   ]
  },
  {
   "cell_type": "code",
   "execution_count": 26,
   "id": "c6e07610",
   "metadata": {},
   "outputs": [
    {
     "data": {
      "text/plain": [
       "'Thursday'"
      ]
     },
     "execution_count": 26,
     "metadata": {},
     "output_type": "execute_result"
    }
   ],
   "source": [
    "check_weekday = datetime(1970,1,1)\n",
    "day_of_week[check_weekday.weekday()]"
   ]
  },
  {
   "cell_type": "markdown",
   "id": "33c6c4d8",
   "metadata": {},
   "source": [
    "# Project questions\n",
    "\n",
    "Explore data, write code, and search online to answer the following questions about the data:\n",
    "\n",
    "1- How many days are there in the data?\n",
    "\n",
    "2- Which date was the busiest date (the day with the most requests)? Which date was the second busiest date?\n",
    "\n",
    "3- Which hour was the busiest hour (the hour with the most requests)?\n",
    "\n",
    "4- Are there any two requests that happened at the same time?\n",
    "\n",
    "5- What is the longest gap between two consequent requests?\n",
    "\n",
    "6- Overall, does the volume of requests increase or decrease over time?\n",
    "\n",
    "7- Bonus: For each day calculate the average request time for all requests between 6:00 AM and 9:00 AM\n",
    "\n",
    "8- Bonus: Which day of week is the busiest?\n",
    "\n",
    "9- Bonus: Calculate the average number of requests for each of the 7*24 hours of the week.\n",
    "\n",
    "10- Bonus: Which dates other than the standard weekend days were holidays?"
   ]
  },
  {
   "cell_type": "markdown",
   "id": "d85f0da8",
   "metadata": {},
   "source": [
    "#### 1- How many days are there in the data?"
   ]
  },
  {
   "cell_type": "code",
   "execution_count": 27,
   "id": "f2225cb6",
   "metadata": {},
   "outputs": [
    {
     "name": "stdout",
     "output_type": "stream",
     "text": [
      "[datetime.datetime(1970, 1, 1, 20, 13, 18), datetime.datetime(1970, 1, 1, 20, 16, 10), datetime.datetime(1970, 1, 1, 20, 16, 37), datetime.datetime(1970, 1, 1, 20, 16, 36), datetime.datetime(1970, 1, 1, 20, 26, 21)]\n"
     ]
    }
   ],
   "source": [
    "dates_times = [datetime.strptime(login_times[i], '%Y-%m-%d %H:%M:%S') for i in range(len(login_times))]\n",
    "\n",
    "print(dates_times[:5])"
   ]
  },
  {
   "cell_type": "code",
   "execution_count": 28,
   "id": "6f742d6d",
   "metadata": {},
   "outputs": [
    {
     "name": "stdout",
     "output_type": "stream",
     "text": [
      "Number of days in data:  7\n",
      "Number of Monday: 8823\n",
      "Number of Tuesday: 9268\n",
      "Number of Wednesday: 10339\n",
      "Number of Thursday: 11960\n",
      "Number of Friday: 15208\n",
      "Number of Saturday: 19377\n",
      "Number of Sunday: 18167\n"
     ]
    }
   ],
   "source": [
    "days_of_data = [date.weekday() for date in dates_times]\n",
    "\n",
    "unique_days, count_days = np.unique(days_of_data, return_counts=True)\n",
    "print(\"Number of days in data: \",len(unique_days))\n",
    "\n",
    "for i in unique_days:\n",
    "    print(f\"Number of {day_of_week[i]}: {count_days[i]}\")"
   ]
  },
  {
   "cell_type": "markdown",
   "id": "6a855547",
   "metadata": {},
   "source": [
    "#### 2- Which date was the busiest date (the day with the most requests)? Which date was the second busiest date?"
   ]
  },
  {
   "cell_type": "code",
   "execution_count": 52,
   "id": "9859b3df",
   "metadata": {},
   "outputs": [
    {
     "name": "stdout",
     "output_type": "stream",
     "text": [
      "The busiest date is:  (datetime.date(1970, 4, 4), 1889)\n",
      "The second busiest date (datetime.date(1970, 3, 14), 1706)\n"
     ]
    }
   ],
   "source": [
    "dates = [date_time.date() for date_time in dates_times]\n",
    "\n",
    "unique_dates, count_dates = np.unique(dates, return_counts=True)\n",
    "\n",
    "zipped = zip(unique_dates, count_dates)\n",
    "sorted_zip = sorted(zipped, key = lambda x: x[1])\n",
    "\n",
    "print(\"The busiest date is: \", sorted_zip[-1])\n",
    "\n",
    "print(\"The second busiest date\", sorted_zip[-2])\n"
   ]
  },
  {
   "cell_type": "markdown",
   "id": "590c2ad9",
   "metadata": {},
   "source": [
    "# Sample answer to problem 2\n",
    "\n",
    "Here is an answer to problem 2. We advise to try to solve this problem before you see the answer below\n"
   ]
  },
  {
   "cell_type": "code",
   "execution_count": 30,
   "id": "dd16a91f",
   "metadata": {},
   "outputs": [
    {
     "name": "stdout",
     "output_type": "stream",
     "text": [
      "the busiest day is day number  92\n"
     ]
    }
   ],
   "source": [
    "day_number=np.array(timestamps).astype(int)//(24*60*60) # find day number for all requests\n",
    "unique, counts = np.unique(day_number, return_counts=True) # find how many requests are in each day\n",
    "\n",
    "maxday=np.argmax(counts) # find the day with the maximum requests\n",
    "print(\"the busiest day is day number \",unique[maxday])"
   ]
  },
  {
   "cell_type": "markdown",
   "id": "055f1453",
   "metadata": {},
   "source": [
    "#### 3- Which hour was the busiest hour (the hour with the most requests)?"
   ]
  },
  {
   "cell_type": "code",
   "execution_count": 31,
   "id": "755e1dac",
   "metadata": {},
   "outputs": [
    {
     "name": "stdout",
     "output_type": "stream",
     "text": [
      "The busiest hour is: 22\n"
     ]
    }
   ],
   "source": [
    "hours = [date_time.hour for date_time in dates_times]\n",
    "unique_hour, count_hours = np.unique(hours, return_counts=True)\n",
    "busiest_hour = unique_hour[np.argmax(count_hours)]\n",
    "print(\"The busiest hour is:\", busiest_hour)\n"
   ]
  },
  {
   "cell_type": "markdown",
   "id": "09c410da",
   "metadata": {},
   "source": [
    "#### 4- Are there any two requests that happened at the same time?\n"
   ]
  },
  {
   "cell_type": "code",
   "execution_count": 32,
   "id": "150776b9",
   "metadata": {},
   "outputs": [
    {
     "name": "stdout",
     "output_type": "stream",
     "text": [
      "Yes, There are\n",
      "868\n"
     ]
    }
   ],
   "source": [
    "unique_timestamps, count_timestamps = np.unique(timestamps, return_counts=True)\n",
    "\n",
    "if sum(count_timestamps>1) > 0:\n",
    "    print(f\"Yes, There are\")\n",
    "    print(sum(count_timestamps>1))\n",
    "else:\n",
    "    print(\"No!\")\n"
   ]
  },
  {
   "cell_type": "markdown",
   "id": "92b81ae9",
   "metadata": {},
   "source": [
    "#### 5- What is the longest gap between two consequent requests?"
   ]
  },
  {
   "cell_type": "code",
   "execution_count": 33,
   "id": "7342cab6",
   "metadata": {},
   "outputs": [
    {
     "name": "stdout",
     "output_type": "stream",
     "text": [
      "39167\n"
     ]
    }
   ],
   "source": [
    "gaps = np.subtract(timestamps[1:], timestamps[:-1])\n",
    "print(sum(gaps < -1))"
   ]
  },
  {
   "cell_type": "markdown",
   "id": "0185b35c",
   "metadata": {},
   "source": [
    "The unsorted data is our problem here"
   ]
  },
  {
   "cell_type": "code",
   "execution_count": 34,
   "id": "3c5e9c82",
   "metadata": {},
   "outputs": [
    {
     "name": "stdout",
     "output_type": "stream",
     "text": [
      "Number of wrong gaps:  0\n",
      "Longest gap:  5501.0 s\n"
     ]
    }
   ],
   "source": [
    "sorted_timestamps = timestamps.copy()\n",
    "sorted_timestamps.sort()\n",
    "\n",
    "\n",
    "gaps = np.subtract(sorted_timestamps[1:], sorted_timestamps[:-1])\n",
    "print(\"Number of wrong gaps: \", sum(gaps < -1))\n",
    "\n",
    "print(\"Longest gap: \", gaps.max(), \"s\")"
   ]
  },
  {
   "cell_type": "markdown",
   "id": "90dbf1e9",
   "metadata": {},
   "source": [
    "#### 6. Overall, does the volume of requests increase or decrease over time?"
   ]
  },
  {
   "cell_type": "code",
   "execution_count": 49,
   "id": "ba6a00e9",
   "metadata": {},
   "outputs": [
    {
     "name": "stdout",
     "output_type": "stream",
     "text": [
      "The slop is + so the volume of the requests is increasing overall.\n"
     ]
    },
    {
     "data": {
      "image/png": "[encoded data removed]",
      "text/plain": [
       "<Figure size 720x360 with 1 Axes>"
      ]
     },
     "metadata": {
      "needs_background": "light"
     },
     "output_type": "display_data"
    }
   ],
   "source": [
    "f = plt.figure()\n",
    "f.set_figwidth(10)\n",
    "f.set_figheight(5)\n",
    "\n",
    "plt.plot(unique_dates, count_dates)\n",
    "\n",
    "\n",
    "slope, intercept = np.polyfit(count_dates, range(len(count_dates)),1)\n",
    "\n",
    "if slope > 0:\n",
    "    print(\"The slop is + so the volume of the requests is increasing overall.\")\n",
    "elif slope < 0:\n",
    "    print(\"The slop is - so the volume of the requests is  decreasing overall.\")\n",
    "else:\n",
    "    print(\"The slop is 0 so the volume of the requests is static overall.\")\n",
    "\n"
   ]
  },
  {
   "cell_type": "markdown",
   "id": "96409467",
   "metadata": {},
   "source": [
    "As a result of the plot and slope of the data, I think the volume of the requests is increasing, but it fluctuates a lot  ."
   ]
  },
  {
   "cell_type": "markdown",
   "id": "11273317",
   "metadata": {},
   "source": [
    "#### 7- Bonus: For each day calculate the average request time for all requests between 6:00 AM and 9:00 AM\n"
   ]
  },
  {
   "cell_type": "code",
   "execution_count": 36,
   "id": "71284223",
   "metadata": {},
   "outputs": [
    {
     "name": "stdout",
     "output_type": "stream",
     "text": [
      "defaultdict(<class 'list'>, {datetime.date(1970, 1, 2): '7:33:16', datetime.date(1970, 1, 3): '7:21:27', datetime.date(1970, 1, 4): '6:56:26', datetime.date(1970, 1, 5): '7:57:57', datetime.date(1970, 1, 6): '7:39:51', datetime.date(1970, 1, 7): '7:33:48', datetime.date(1970, 1, 8): '7:52:17', datetime.date(1970, 1, 9): '7:11:39', datetime.date(1970, 1, 10): '6:58:04', datetime.date(1970, 1, 11): '6:50:49', datetime.date(1970, 1, 12): '7:55:08', datetime.date(1970, 1, 13): '7:32:31', datetime.date(1970, 1, 14): '7:39:49', datetime.date(1970, 1, 15): '7:27:53', datetime.date(1970, 1, 16): '7:39:59', datetime.date(1970, 1, 17): '7:17:16', datetime.date(1970, 1, 18): '7:18:00', datetime.date(1970, 1, 19): '7:42:00', datetime.date(1970, 1, 20): '7:55:25', datetime.date(1970, 1, 21): '7:49:50', datetime.date(1970, 1, 22): '7:28:11', datetime.date(1970, 1, 23): '7:30:43', datetime.date(1970, 1, 24): '6:59:12', datetime.date(1970, 1, 25): '7:04:53', datetime.date(1970, 1, 26): '7:31:37', datetime.date(1970, 1, 27): '7:31:04', datetime.date(1970, 1, 28): '7:43:23', datetime.date(1970, 1, 29): '7:25:44', datetime.date(1970, 1, 30): '7:16:57', datetime.date(1970, 1, 31): '7:07:32', datetime.date(1970, 2, 1): '7:02:25', datetime.date(1970, 2, 2): '7:33:25', datetime.date(1970, 2, 3): '7:27:31', datetime.date(1970, 2, 4): '7:31:44', datetime.date(1970, 2, 5): '7:18:40', datetime.date(1970, 2, 6): '7:03:19', datetime.date(1970, 2, 7): '6:56:49', datetime.date(1970, 2, 8): '7:39:08', datetime.date(1970, 2, 9): '7:38:24', datetime.date(1970, 2, 10): '7:57:28', datetime.date(1970, 2, 11): '7:35:32', datetime.date(1970, 2, 12): '7:18:24', datetime.date(1970, 2, 13): '7:38:12', datetime.date(1970, 2, 14): '7:01:08', datetime.date(1970, 2, 15): '7:01:44', datetime.date(1970, 2, 16): '7:34:30', datetime.date(1970, 2, 17): '7:52:21', datetime.date(1970, 2, 18): '7:38:32', datetime.date(1970, 2, 19): '6:53:04', datetime.date(1970, 2, 20): '7:15:39', datetime.date(1970, 2, 21): '6:43:53', datetime.date(1970, 2, 22): '7:01:04', datetime.date(1970, 2, 23): '7:50:27', datetime.date(1970, 2, 24): '7:42:52', datetime.date(1970, 2, 25): '7:50:32', datetime.date(1970, 2, 26): '8:09:24', datetime.date(1970, 2, 27): '7:07:45', datetime.date(1970, 2, 28): '7:12:43', datetime.date(1970, 3, 1): '6:55:50', datetime.date(1970, 3, 2): '7:38:53', datetime.date(1970, 3, 3): '7:47:31', datetime.date(1970, 3, 4): '7:18:26', datetime.date(1970, 3, 5): '7:48:34', datetime.date(1970, 3, 6): '7:15:53', datetime.date(1970, 3, 7): '7:00:41', datetime.date(1970, 3, 8): '7:05:16', datetime.date(1970, 3, 9): '8:00:57', datetime.date(1970, 3, 10): '7:32:32', datetime.date(1970, 3, 11): '7:58:47', datetime.date(1970, 3, 12): '8:01:01', datetime.date(1970, 3, 13): '7:46:59', datetime.date(1970, 3, 14): '7:02:42', datetime.date(1970, 3, 15): '6:58:57', datetime.date(1970, 3, 16): '7:55:29', datetime.date(1970, 3, 17): '7:50:33', datetime.date(1970, 3, 18): '7:53:40', datetime.date(1970, 3, 19): '7:46:17', datetime.date(1970, 3, 20): '7:29:11', datetime.date(1970, 3, 21): '7:06:51', datetime.date(1970, 3, 22): '7:19:50', datetime.date(1970, 3, 23): '7:49:35', datetime.date(1970, 3, 24): '7:58:47', datetime.date(1970, 3, 25): '7:41:43', datetime.date(1970, 3, 26): '7:50:48', datetime.date(1970, 3, 27): '7:48:29', datetime.date(1970, 3, 28): '7:07:19', datetime.date(1970, 3, 29): '7:05:42', datetime.date(1970, 3, 30): '8:01:36', datetime.date(1970, 3, 31): '7:22:21', datetime.date(1970, 4, 1): '7:52:03', datetime.date(1970, 4, 2): '7:18:30', datetime.date(1970, 4, 3): '7:44:57', datetime.date(1970, 4, 4): '6:56:01', datetime.date(1970, 4, 5): '7:14:24', datetime.date(1970, 4, 6): '7:49:16', datetime.date(1970, 4, 7): '8:21:00', datetime.date(1970, 4, 8): '7:37:03', datetime.date(1970, 4, 9): '8:03:59', datetime.date(1970, 4, 10): '7:26:29', datetime.date(1970, 4, 11): '6:46:34', datetime.date(1970, 4, 12): '7:17:47', datetime.date(1970, 4, 13): '7:48:42'})\n"
     ]
    }
   ],
   "source": [
    "requests_6_9 = [with_hour for with_hour in dates_times if (with_hour.hour>=6 and with_hour.hour<9)]\n",
    "\n",
    "dict_of_dates = defaultdict(list)\n",
    "\n",
    "for date_time in requests_6_9:\n",
    "    t = date_time.time()\n",
    "    dict_of_dates[date_time.date()].append((t.hour * 60 + t.minute) * 60 + t.second)\n",
    "\n",
    "\n",
    "for date in dict_of_dates:\n",
    "    dict_of_dates[date] = str(timedelta(seconds=int(np.mean(dict_of_dates[date]))))\n",
    "\n",
    "\n",
    "print(dict_of_dates)"
   ]
  },
  {
   "cell_type": "markdown",
   "id": "408b5c1c",
   "metadata": {},
   "source": [
    "#### 8- Bonus: Which day of week is the busiest?\n"
   ]
  },
  {
   "cell_type": "code",
   "execution_count": 37,
   "id": "492599fe",
   "metadata": {},
   "outputs": [
    {
     "name": "stdout",
     "output_type": "stream",
     "text": [
      "The busiest day of the week is: Saturday\n"
     ]
    }
   ],
   "source": [
    "week_days = [date_time.weekday() for date_time in dates_times]\n",
    "\n",
    "unique_weekdays, count_weekdays = np.unique(week_days, return_counts=True)\n",
    "busiest_weekday = unique_weekdays[np.argmax(count_weekdays)]\n",
    "print(\"The busiest day of the week is:\", day_of_week[busiest_weekday])"
   ]
  },
  {
   "cell_type": "markdown",
   "id": "a7b8cbe1",
   "metadata": {},
   "source": [
    "9- Bonus: Calculate the average number of requests for each of the 7*24 hours of the week.\n"
   ]
  },
  {
   "cell_type": "code",
   "execution_count": 38,
   "id": "75d22ac2",
   "metadata": {},
   "outputs": [
    {
     "name": "stdout",
     "output_type": "stream",
     "text": [
      "+ Average Thursday - hour:20 --> 0.05200668896321117\n",
      "\n",
      "+ Average Friday - hour:20 --> 0.05280115728563848\n",
      "\n",
      "+ Average Saturday - hour:20 --> 0.03622851834649345\n",
      "\n",
      "+ Average Sunday - hour:20 --> 0.033687455276049855\n",
      "\n",
      "+ Average Monday - hour:20 --> 0.04261589028675033\n",
      "\n",
      "+ Average Tuesday - hour:20 --> 0.05265429434613758\n",
      "\n",
      "+ Average Wednesday - hour:20 --> 0.048360576458071895\n",
      "\n",
      "+ Average Thursday - hour:21 --> 0.0727424749163891\n",
      "\n",
      "+ Average Friday - hour:21 --> 0.07930036822724941\n",
      "\n",
      "+ Average Saturday - hour:21 --> 0.04510502141714478\n",
      "\n",
      "+ Average Sunday - hour:21 --> 0.0344030384763581\n",
      "\n",
      "+ Average Monday - hour:21 --> 0.06857078091352058\n",
      "\n",
      "+ Average Tuesday - hour:21 --> 0.07596029348295266\n",
      "\n",
      "+ Average Wednesday - hour:21 --> 0.07147693200503079\n",
      "\n",
      "+ Average Thursday - hour:22 --> 0.09105351170568736\n",
      "\n",
      "+ Average Friday - hour:22 --> 0.09988164124145422\n",
      "\n",
      "+ Average Saturday - hour:22 --> 0.059968003302886534\n",
      "\n",
      "+ Average Sunday - hour:22 --> 0.03209115429074684\n",
      "\n",
      "+ Average Monday - hour:22 --> 0.0692508217159687\n",
      "\n",
      "+ Average Tuesday - hour:22 --> 0.08178679326715643\n",
      "\n",
      "+ Average Wednesday - hour:22 --> 0.08559822033078811\n",
      "\n",
      "+ Average Thursday - hour:23 --> 0.08637123745819557\n",
      "\n",
      "+ Average Friday - hour:23 --> 0.0853498158863767\n",
      "\n",
      "+ Average Saturday - hour:23 --> 0.05191722144810975\n",
      "\n",
      "+ Average Sunday - hour:23 --> 0.03065998789013034\n",
      "\n",
      "+ Average Monday - hour:23 --> 0.06029695115040167\n",
      "\n",
      "+ Average Tuesday - hour:23 --> 0.0781182563659911\n",
      "\n",
      "+ Average Wednesday - hour:23 --> 0.08782280684785947\n",
      "\n",
      "+ Average Friday - hour:0 --> 0.0641109942135711\n",
      "\n",
      "+ Average Saturday - hour:0 --> 0.06471590029416485\n",
      "\n",
      "+ Average Sunday - hour:0 --> 0.06181537953432022\n",
      "\n",
      "+ Average Monday - hour:0 --> 0.06018361101666032\n",
      "\n",
      "+ Average Tuesday - hour:0 --> 0.06549417350021626\n",
      "\n",
      "+ Average Wednesday - hour:0 --> 0.0664474320533912\n",
      "\n",
      "+ Average Thursday - hour:0 --> 0.06822742474916488\n",
      "\n",
      "+ Average Friday - hour:1 --> 0.06292740662808967\n",
      "\n",
      "+ Average Saturday - hour:1 --> 0.08061103369974765\n",
      "\n",
      "+ Average Sunday - hour:1 --> 0.07458578741674433\n",
      "\n",
      "+ Average Monday - hour:1 --> 0.04692281536892181\n",
      "\n",
      "+ Average Tuesday - hour:1 --> 0.06107034958998747\n",
      "\n",
      "+ Average Wednesday - hour:1 --> 0.06635071090047505\n",
      "\n",
      "+ Average Thursday - hour:1 --> 0.06496655518394738\n",
      "\n",
      "+ Average Friday - hour:2 --> 0.050697001578116165\n",
      "\n",
      "+ Average Saturday - hour:2 --> 0.08298498219538664\n",
      "\n",
      "+ Average Sunday - hour:2 --> 0.08851213739197408\n",
      "\n",
      "+ Average Monday - hour:2 --> 0.03536212172730362\n",
      "\n",
      "+ Average Tuesday - hour:2 --> 0.042511868795856944\n",
      "\n",
      "+ Average Wednesday - hour:2 --> 0.04661959570558127\n",
      "\n",
      "+ Average Thursday - hour:2 --> 0.05225752508361252\n",
      "\n",
      "+ Average Friday - hour:3 --> 0.033008942661756704\n",
      "\n",
      "+ Average Saturday - hour:3 --> 0.08123032461165347\n",
      "\n",
      "+ Average Sunday - hour:3 --> 0.09065888699289883\n",
      "\n",
      "+ Average Monday - hour:3 --> 0.026748271562960526\n",
      "\n",
      "+ Average Tuesday - hour:3 --> 0.0213638325420803\n",
      "\n",
      "+ Average Wednesday - hour:3 --> 0.02891962472192663\n",
      "\n",
      "+ Average Thursday - hour:3 --> 0.03135451505016702\n",
      "\n",
      "+ Average Friday - hour:4 --> 0.023211467648605922\n",
      "\n",
      "+ Average Saturday - hour:4 --> 0.0887134231305155\n",
      "\n",
      "+ Average Sunday - hour:4 --> 0.11597952331149837\n",
      "\n",
      "+ Average Monday - hour:4 --> 0.02334806755071978\n",
      "\n",
      "+ Average Tuesday - hour:4 --> 0.016076823478636138\n",
      "\n",
      "+ Average Wednesday - hour:4 --> 0.023696682464454933\n",
      "\n",
      "+ Average Thursday - hour:4 --> 0.021321070234113598\n",
      "\n",
      "+ Average Friday - hour:5 --> 0.01610994213571811\n",
      "\n",
      "+ Average Saturday - hour:5 --> 0.05640708055942757\n",
      "\n",
      "+ Average Sunday - hour:5 --> 0.060659437441514585\n",
      "\n",
      "+ Average Monday - hour:5 --> 0.01371415618270433\n",
      "\n",
      "+ Average Tuesday - hour:5 --> 0.012192490289167012\n",
      "\n",
      "+ Average Wednesday - hour:5 --> 0.01305735564367925\n",
      "\n",
      "+ Average Thursday - hour:5 --> 0.011371237458193954\n",
      "\n",
      "+ Average Friday - hour:6 --> 0.007956338769068937\n",
      "\n",
      "+ Average Saturday - hour:6 --> 0.021055891004799432\n",
      "\n",
      "+ Average Sunday - hour:6 --> 0.02102713711675008\n",
      "\n",
      "+ Average Monday - hour:6 --> 0.007480448826929629\n",
      "\n",
      "+ Average Tuesday - hour:6 --> 0.004963314630988353\n",
      "\n",
      "+ Average Wednesday - hour:6 --> 0.004642615339974847\n",
      "\n",
      "+ Average Thursday - hour:6 --> 0.005602006688963214\n",
      "\n",
      "+ Average Friday - hour:7 --> 0.006904260915307752\n",
      "\n",
      "+ Average Saturday - hour:7 --> 0.009186148526603688\n",
      "\n",
      "+ Average Sunday - hour:7 --> 0.010568613419937225\n",
      "\n",
      "+ Average Monday - hour:7 --> 0.012580754845290748\n",
      "\n",
      "+ Average Tuesday - hour:7 --> 0.006905481225722927\n",
      "\n",
      "+ Average Wednesday - hour:7 --> 0.00812457684495598\n",
      "\n",
      "+ Average Thursday - hour:7 --> 0.006772575250836126\n",
      "\n",
      "+ Average Friday - hour:8 --> 0.007167280378748048\n",
      "\n",
      "+ Average Saturday - hour:8 --> 0.006554162151003761\n",
      "\n",
      "+ Average Sunday - hour:8 --> 0.008421863819012481\n",
      "\n",
      "+ Average Monday - hour:8 --> 0.016660999659979643\n",
      "\n",
      "+ Average Tuesday - hour:8 --> 0.009495036685369013\n",
      "\n",
      "+ Average Wednesday - hour:8 --> 0.009575394138698118\n",
      "\n",
      "+ Average Thursday - hour:8 --> 0.007943143812709035\n",
      "\n",
      "+ Average Friday - hour:9 --> 0.015781167806417747\n",
      "\n",
      "+ Average Saturday - hour:9 --> 0.006089693967074363\n",
      "\n",
      "+ Average Sunday - hour:9 --> 0.00990807508119115\n",
      "\n",
      "+ Average Monday - hour:9 --> 0.02901507423778769\n",
      "\n",
      "+ Average Tuesday - hour:9 --> 0.026111350884764854\n",
      "\n",
      "+ Average Wednesday - hour:9 --> 0.02321307669987422\n",
      "\n",
      "+ Average Thursday - hour:9 --> 0.020986622073578483\n",
      "\n",
      "+ Average Friday - hour:10 --> 0.03465281430825851\n",
      "\n",
      "+ Average Saturday - hour:10 --> 0.010527945502399728\n",
      "\n",
      "+ Average Sunday - hour:10 --> 0.011559420928056337\n",
      "\n",
      "+ Average Monday - hour:10 --> 0.0632437946276769\n",
      "\n",
      "+ Average Tuesday - hour:10 --> 0.051683211048770286\n",
      "\n",
      "+ Average Wednesday - hour:10 --> 0.04913434568140106\n",
      "\n",
      "+ Average Thursday - hour:10 --> 0.048327759197324766\n",
      "\n",
      "+ Average Friday - hour:11 --> 0.06700420831141458\n",
      "\n",
      "+ Average Saturday - hour:11 --> 0.019198018269081837\n",
      "\n",
      "+ Average Sunday - hour:11 --> 0.016073099576154517\n",
      "\n",
      "+ Average Monday - hour:11 --> 0.1073331066530639\n",
      "\n",
      "+ Average Tuesday - hour:11 --> 0.1095166163142003\n",
      "\n",
      "+ Average Wednesday - hour:11 --> 0.10223425863236522\n",
      "\n",
      "+ Average Thursday - hour:11 --> 0.09172240802675762\n",
      "\n",
      "+ Average Friday - hour:12 --> 0.06088900578642738\n",
      "\n",
      "+ Average Saturday - hour:12 --> 0.02724880012385808\n",
      "\n",
      "+ Average Sunday - hour:12 --> 0.02873341773545429\n",
      "\n",
      "+ Average Monday - hour:12 --> 0.08183157656125908\n",
      "\n",
      "+ Average Tuesday - hour:12 --> 0.07660768234786419\n",
      "\n",
      "+ Average Wednesday - hour:12 --> 0.07079988393461777\n",
      "\n",
      "+ Average Thursday - hour:12 --> 0.06889632107023513\n",
      "\n",
      "+ Average Friday - hour:13 --> 0.03504734350341895\n",
      "\n",
      "+ Average Saturday - hour:13 --> 0.0350415440986738\n",
      "\n",
      "+ Average Sunday - hour:13 --> 0.03875158253976976\n",
      "\n",
      "+ Average Monday - hour:13 --> 0.04828289697381807\n",
      "\n",
      "+ Average Tuesday - hour:13 --> 0.03895123003884353\n",
      "\n",
      "+ Average Wednesday - hour:13 --> 0.0410097688364448\n",
      "\n",
      "+ Average Thursday - hour:13 --> 0.04046822742474926\n",
      "\n",
      "+ Average Friday - hour:14 --> 0.03432403997895815\n",
      "\n",
      "+ Average Saturday - hour:14 --> 0.03947979563399946\n",
      "\n",
      "+ Average Sunday - hour:14 --> 0.04326526118786794\n",
      "\n",
      "+ Average Monday - hour:14 --> 0.03819562507083749\n",
      "\n",
      "+ Average Tuesday - hour:14 --> 0.0333405265429436\n",
      "\n",
      "+ Average Wednesday - hour:14 --> 0.030854047780249482\n",
      "\n",
      "+ Average Thursday - hour:14 --> 0.03244147157190619\n",
      "\n",
      "+ Average Friday - hour:15 --> 0.0256443976854286\n",
      "\n",
      "+ Average Saturday - hour:15 --> 0.039376580482015144\n",
      "\n",
      "+ Average Sunday - hour:15 --> 0.04414597897286271\n",
      "\n",
      "+ Average Monday - hour:15 --> 0.03320865918621788\n",
      "\n",
      "+ Average Tuesday - hour:15 --> 0.026650841605524462\n",
      "\n",
      "+ Average Wednesday - hour:15 --> 0.0254376632169455\n",
      "\n",
      "+ Average Thursday - hour:15 --> 0.02341137123745806\n",
      "\n",
      "+ Average Friday - hour:16 --> 0.024460810099947296\n",
      "\n",
      "+ Average Saturday - hour:16 --> 0.037054239562367995\n",
      "\n",
      "+ Average Sunday - hour:16 --> 0.045026696757857476\n",
      "\n",
      "+ Average Monday - hour:16 --> 0.028221693301598183\n",
      "\n",
      "+ Average Tuesday - hour:16 --> 0.023629693569270655\n",
      "\n",
      "+ Average Wednesday - hour:16 --> 0.020698326724054514\n",
      "\n",
      "+ Average Thursday - hour:16 --> 0.020234113712374477\n",
      "\n",
      "+ Average Friday - hour:17 --> 0.03156233561283511\n",
      "\n",
      "+ Average Saturday - hour:17 --> 0.03308045621097176\n",
      "\n",
      "+ Average Sunday - hour:17 --> 0.03401772444542289\n",
      "\n",
      "+ Average Monday - hour:17 --> 0.026974951830443242\n",
      "\n",
      "+ Average Tuesday - hour:17 --> 0.019745360379801475\n",
      "\n",
      "+ Average Wednesday - hour:17 --> 0.018570461359899378\n",
      "\n",
      "+ Average Thursday - hour:17 --> 0.01939799331103669\n",
      "\n",
      "+ Average Friday - hour:18 --> 0.03794055760126213\n",
      "\n",
      "+ Average Saturday - hour:18 --> 0.032925633482995285\n",
      "\n",
      "+ Average Sunday - hour:18 --> 0.03065998789013034\n",
      "\n",
      "+ Average Monday - hour:18 --> 0.03026181570894263\n",
      "\n",
      "+ Average Tuesday - hour:18 --> 0.03269313767803207\n",
      "\n",
      "+ Average Wednesday - hour:18 --> 0.02775897088693292\n",
      "\n",
      "+ Average Thursday - hour:18 --> 0.029347826086956335\n",
      "\n",
      "+ Average Friday - hour:19 --> 0.04326670173592799\n",
      "\n",
      "+ Average Saturday - hour:19 --> 0.035299581978634594\n",
      "\n",
      "+ Average Sunday - hour:19 --> 0.03478835250729331\n",
      "\n",
      "+ Average Monday - hour:19 --> 0.02969511504023584\n",
      "\n",
      "+ Average Tuesday - hour:19 --> 0.03247734138972823\n",
      "\n",
      "+ Average Wednesday - hour:19 --> 0.02959667279233963\n",
      "\n",
      "+ Average Thursday - hour:19 --> 0.032775919732441317\n",
      "\n"
     ]
    }
   ],
   "source": [
    "hours_of_day_of_week = defaultdict(lambda: defaultdict(lambda: 0))\n",
    "\n",
    "\n",
    "for date_time in dates_times:\n",
    "    hours_of_day_of_week[date_time.hour][day_of_week[date_time.weekday()]] += 1/count_weekdays[date_time.weekday()]\n",
    "\n",
    "\n",
    "for hour in hours_of_day_of_week:\n",
    "    for day in hours_of_day_of_week[hour]:\n",
    "        print(f\"+ Average {day} - hour:{hour} --> {hours_of_day_of_week[hour][day]}\\n\")\n",
    "    "
   ]
  },
  {
   "cell_type": "markdown",
   "id": "68df897b",
   "metadata": {},
   "source": [
    "#### 10- Bonus: Which dates other than the standard weekend days were holidays?"
   ]
  },
  {
   "cell_type": "code",
   "execution_count": 39,
   "id": "86920ad5",
   "metadata": {},
   "outputs": [
    {
     "name": "stdout",
     "output_type": "stream",
     "text": [
      "++ Holidays -->  [datetime.date(1970, 1, 2), datetime.date(1970, 1, 5), datetime.date(1970, 1, 6), datetime.date(1970, 1, 7), datetime.date(1970, 1, 8), datetime.date(1970, 1, 12), datetime.date(1970, 1, 13), datetime.date(1970, 1, 14), datetime.date(1970, 1, 15), datetime.date(1970, 1, 16), datetime.date(1970, 1, 19), datetime.date(1970, 1, 20), datetime.date(1970, 1, 21), datetime.date(1970, 1, 22), datetime.date(1970, 1, 23), datetime.date(1970, 1, 26), datetime.date(1970, 1, 27), datetime.date(1970, 1, 28), datetime.date(1970, 1, 29), datetime.date(1970, 2, 3), datetime.date(1970, 2, 4), datetime.date(1970, 2, 5), datetime.date(1970, 2, 6), datetime.date(1970, 2, 9), datetime.date(1970, 2, 10), datetime.date(1970, 2, 11), datetime.date(1970, 2, 12), datetime.date(1970, 2, 16), datetime.date(1970, 2, 17), datetime.date(1970, 2, 18), datetime.date(1970, 2, 19), datetime.date(1970, 2, 20), datetime.date(1970, 2, 25), datetime.date(1970, 2, 26), datetime.date(1970, 3, 2), datetime.date(1970, 3, 3), datetime.date(1970, 3, 4), datetime.date(1970, 3, 5), datetime.date(1970, 3, 9), datetime.date(1970, 3, 10), datetime.date(1970, 3, 11), datetime.date(1970, 3, 12), datetime.date(1970, 3, 16), datetime.date(1970, 3, 17), datetime.date(1970, 3, 18), datetime.date(1970, 3, 19), datetime.date(1970, 3, 20), datetime.date(1970, 3, 23), datetime.date(1970, 3, 24), datetime.date(1970, 3, 25), datetime.date(1970, 3, 26), datetime.date(1970, 3, 30), datetime.date(1970, 4, 1), datetime.date(1970, 4, 2), datetime.date(1970, 4, 6), datetime.date(1970, 4, 7), datetime.date(1970, 4, 8), datetime.date(1970, 4, 9)]\n"
     ]
    }
   ],
   "source": [
    "# I assumed that Sunday and Monday are weekends\n",
    "requests_without_weekends = [date_time for date_time in dates_times if (date_time.weekday() != 0 or date_time.weekday() != 6)]\n",
    "\n",
    "\n",
    "def filter_by_worktime(data):\n",
    "    dict_hours_each_day = defaultdict(list)\n",
    "    dict_std_of_hours_each_day = defaultdict(float)\n",
    "    dict_mean_of_hours_each_day = defaultdict(datetime)\n",
    "\n",
    "    all_times = []\n",
    "\n",
    "\n",
    "    requests_7_18 = [date_time for date_time in data if (date_time.hour>=7 and date_time.hour<=18)]\n",
    "\n",
    " \n",
    "    for day in requests_7_18:\n",
    "        t = day.time()\n",
    "        t = (t.hour * 60 + t.minute) * 60 + t.second\n",
    "        all_times.append(t)\n",
    "        dict_hours_each_day[day.date()].append(t)\n",
    "\n",
    "    total_mean = np.mean(all_times)\n",
    "    total_std = np.std(all_times)\n",
    "\n",
    "\n",
    "    for day in dict_hours_each_day:\n",
    "        dict_mean_of_hours_each_day[day] = np.mean(dict_hours_each_day[day])\n",
    "        dict_std_of_hours_each_day[day] = np.std(dict_hours_each_day[day])\n",
    "\n",
    "        \n",
    "    result = [date_time for date_time in dict_hours_each_day if (dict_mean_of_hours_each_day[date_time] < total_mean \n",
    "                                                                and \n",
    "                                                                dict_std_of_hours_each_day[date_time] < total_std\n",
    "                                                                )]\n",
    "        \n",
    "    \n",
    "    return result\n",
    "\n",
    "\n",
    "\n",
    "holidays = filter_by_worktime(requests_without_weekends)\n",
    "print(\"++ Holidays --> \", holidays)\n"
   ]
  }
 ],
 "metadata": {
  "kernelspec": {
   "display_name": "Python 3.9.12 ('base')",
   "language": "python",
   "name": "python3"
  },
  "language_info": {
   "codemirror_mode": {
    "name": "ipython",
    "version": 3
   },
   "file_extension": ".py",
   "mimetype": "text/x-python",
   "name": "python",
   "nbconvert_exporter": "python",
   "pygments_lexer": "ipython3",
   "version": "3.9.12"
  },
  "vscode": {
   "interpreter": {
    "hash": "341e0318612e13d2caac249865d6880347062171b89016abd70f7ef667022a97"
   }
  }
 },
 "nbformat": 4,
 "nbformat_minor": 5
}
