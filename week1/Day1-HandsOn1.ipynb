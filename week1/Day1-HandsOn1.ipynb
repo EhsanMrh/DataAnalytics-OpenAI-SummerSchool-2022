{
 "cells": [
  {
   "cell_type": "markdown",
   "id": "eeb1ade4",
   "metadata": {},
   "source": [
    "### 1-\n",
    "add all the items in this list: ['1','2','2.5','3.5']\n"
   ]
  },
  {
   "cell_type": "code",
   "execution_count": 64,
   "id": "62b42805",
   "metadata": {},
   "outputs": [
    {
     "name": "stdout",
     "output_type": "stream",
     "text": [
      "[1.0, 2.0, 2.5, 3.5]\n"
     ]
    },
    {
     "data": {
      "text/plain": [
       "9.0"
      ]
     },
     "execution_count": 64,
     "metadata": {},
     "output_type": "execute_result"
    }
   ],
   "source": [
    "list_a = ['1','2','2.5','3.5']\n",
    "lll = []\n",
    "list_a_digit = list(map(float, list_a))\n",
    "\n",
    "print(list_a_digit)\n",
    "\n",
    "sum_list = sum(list_a_digit)\n",
    "sum_list"
   ]
  },
  {
   "cell_type": "markdown",
   "id": "fbdf211f",
   "metadata": {},
   "source": [
    "### 2- \n",
    "calculate the average of all 2-digit integers. (numbers 10 to 99)\n"
   ]
  },
  {
   "cell_type": "code",
   "execution_count": 27,
   "id": "908f5093",
   "metadata": {},
   "outputs": [
    {
     "data": {
      "text/plain": [
       "54.0"
      ]
     },
     "execution_count": 27,
     "metadata": {},
     "output_type": "execute_result"
    }
   ],
   "source": [
    "list_10_to_99 = list(range(10, 99))\n",
    "def cal_mean(li):\n",
    "    return sum(li) / len(li)\n",
    "\n",
    "mean_of_list = cal_mean(list_10_to_99)\n",
    "mean_of_list\n"
   ]
  },
  {
   "cell_type": "markdown",
   "id": "eb3bd609",
   "metadata": {},
   "source": [
    "### 3- \n",
    "Given a variable, check if it is prime (a prime number is a number that is divisible only by itself and 1)\n"
   ]
  },
  {
   "cell_type": "code",
   "execution_count": 34,
   "id": "27f87528",
   "metadata": {},
   "outputs": [
    {
     "data": {
      "text/plain": [
       "True"
      ]
     },
     "execution_count": 34,
     "metadata": {},
     "output_type": "execute_result"
    }
   ],
   "source": [
    "def is_prime(n):\n",
    "    for i in range(2, n):\n",
    "        if n%i == 0:\n",
    "            return False\n",
    "    \n",
    "    return True\n",
    "\n",
    "is_prime(13)"
   ]
  },
  {
   "cell_type": "markdown",
   "id": "a8e01dc6",
   "metadata": {},
   "source": [
    "### 4- \n",
    "Given a variable, write a function to check if it is a prime number. You should handle all data types and corner cases (Numbers less than 2)\n"
   ]
  },
  {
   "cell_type": "code",
   "execution_count": 40,
   "id": "e74878e6",
   "metadata": {},
   "outputs": [
    {
     "name": "stdout",
     "output_type": "stream",
     "text": [
      "True\n",
      "False\n",
      "False\n"
     ]
    }
   ],
   "source": [
    "def any_is_prime(n):\n",
    "    if n < 2:\n",
    "        return False\n",
    "    elif (type(n) == str) or (type(n) == float):\n",
    "        n = int(n)\n",
    "        return is_prime(n)\n",
    "    else:\n",
    "        return is_prime(n)\n",
    "    \n",
    "\n",
    "\n",
    "print(any_is_prime(13))\n",
    "print(any_is_prime(-2))\n",
    "print(any_is_prime(0))"
   ]
  },
  {
   "cell_type": "markdown",
   "id": "13ec0f87",
   "metadata": {},
   "source": [
    "### 5- \n",
    "make a list of prime numbers less than 100.\n"
   ]
  },
  {
   "cell_type": "code",
   "execution_count": 41,
   "id": "48d1a3f7",
   "metadata": {},
   "outputs": [
    {
     "name": "stdout",
     "output_type": "stream",
     "text": [
      "[2, 3, 5, 7, 11, 13, 17, 19, 23, 29, 31, 37, 41, 43, 47, 53, 59, 61, 67, 71, 73, 79, 83, 89, 97]\n"
     ]
    }
   ],
   "source": [
    "list_of_primes = []\n",
    "for i in range(2, 100):\n",
    "    if  is_prime(i):\n",
    "        list_of_primes.append(i)\n",
    "\n",
    "print(list_of_primes)"
   ]
  },
  {
   "cell_type": "markdown",
   "id": "f4eec208",
   "metadata": {},
   "source": [
    "### 6- \n",
    "make sets of integers S2, S3 less than 100 that are divisible by two, and three. Then take the intersection and union of the two sets. "
   ]
  },
  {
   "cell_type": "code",
   "execution_count": 71,
   "id": "d65bde2d",
   "metadata": {},
   "outputs": [
    {
     "name": "stdout",
     "output_type": "stream",
     "text": [
      "{96, 66, 36, 6, 72, 42, 12, 78, 48, 18, 84, 54, 24, 90, 60, 30}\n"
     ]
    }
   ],
   "source": [
    "s2 = set()\n",
    "s3 = set()\n",
    "\n",
    "for i in range(2, 100):\n",
    "    if i%2 == 0:\n",
    "        s2.add(i)\n",
    "    if i%3 == 0:\n",
    "        s3.add(i)\n",
    "\n",
    "inters_of_s2_s3 = s2.intersection(s3)\n",
    "print(inters_of_s2_s3)\n",
    "union_of_s2_s3 = s2.union(s3) \n",
    "print(union_of_s2_s3)\n",
    "\n"
   ]
  },
  {
   "cell_type": "markdown",
   "id": "36bac5d8",
   "metadata": {},
   "source": [
    "### 7-\n",
    "Find the set of all numbers less than 100 that are divisible by 2 and 3 and not by 5.\n"
   ]
  },
  {
   "cell_type": "code",
   "execution_count": 47,
   "id": "47b6fdbb",
   "metadata": {},
   "outputs": [
    {
     "data": {
      "text/plain": [
       "{2,\n",
       " 3,\n",
       " 4,\n",
       " 6,\n",
       " 8,\n",
       " 9,\n",
       " 12,\n",
       " 14,\n",
       " 16,\n",
       " 18,\n",
       " 21,\n",
       " 22,\n",
       " 24,\n",
       " 26,\n",
       " 27,\n",
       " 28,\n",
       " 32,\n",
       " 33,\n",
       " 34,\n",
       " 36,\n",
       " 38,\n",
       " 39,\n",
       " 42,\n",
       " 44,\n",
       " 46,\n",
       " 48,\n",
       " 51,\n",
       " 52,\n",
       " 54,\n",
       " 56,\n",
       " 57,\n",
       " 58,\n",
       " 62,\n",
       " 63,\n",
       " 64,\n",
       " 66,\n",
       " 68,\n",
       " 69,\n",
       " 72,\n",
       " 74,\n",
       " 76,\n",
       " 78,\n",
       " 81,\n",
       " 82,\n",
       " 84,\n",
       " 86,\n",
       " 87,\n",
       " 88,\n",
       " 92,\n",
       " 93,\n",
       " 94,\n",
       " 96,\n",
       " 98,\n",
       " 99}"
      ]
     },
     "execution_count": 47,
     "metadata": {},
     "output_type": "execute_result"
    }
   ],
   "source": [
    "s2 = set()\n",
    "s3 = set()\n",
    "\n",
    "for i in range(2, 100):\n",
    "    if (i%2 == 0) and not(i%5 == 0):\n",
    "        s2.add(i)\n",
    "    elif i%3 == 0 and not(i%5 == 0):\n",
    "        s3.add(i)\n",
    "\n",
    "\n",
    "union_of_s2_s3 = s2.union(s3) \n",
    "union_of_s2_s3"
   ]
  },
  {
   "cell_type": "markdown",
   "id": "38d3a022",
   "metadata": {},
   "source": [
    "### 8- \n",
    "\n",
    "Write a code to generate this pattern given n number of lines:\n",
    "(For n = 6)\n",
    "### \\****** \n",
    "### \\***** \n",
    "### \\**** \n",
    "### \\*** \n",
    "### \\** \n",
    "### \\*\n",
    "\n"
   ]
  },
  {
   "cell_type": "code",
   "execution_count": 52,
   "id": "92e8f426",
   "metadata": {},
   "outputs": [
    {
     "name": "stdout",
     "output_type": "stream",
     "text": [
      "******\n",
      "*****\n",
      "****\n",
      "***\n",
      "**\n",
      "*\n"
     ]
    }
   ],
   "source": [
    "n = 6 \n",
    "\n",
    "for i in range(0, n):\n",
    "    print(\"*\"* (n-i))"
   ]
  },
  {
   "cell_type": "markdown",
   "id": "feeb3cfa",
   "metadata": {},
   "source": [
    "### 9-\n",
    "write a code to reverse this string :\n",
    "\n",
    "\"I love python programming\" --> \"programming python love I\""
   ]
  },
  {
   "cell_type": "code",
   "execution_count": 56,
   "id": "ece78ccd",
   "metadata": {},
   "outputs": [
    {
     "data": {
      "text/plain": [
       "'programming python love I'"
      ]
     },
     "execution_count": 56,
     "metadata": {},
     "output_type": "execute_result"
    }
   ],
   "source": [
    "\n",
    "\n",
    "sen = \"I love python programming\"\n",
    "rev_sen = []\n",
    "\n",
    "words_of_string = sen.split(\" \")\n",
    "\n",
    "for i in words_of_string:\n",
    "    rev_sen.insert(0, i)\n",
    "\n",
    "string_rev_sen = \" \".join([el for el in rev_sen])\n",
    "\n",
    "string_rev_sen"
   ]
  },
  {
   "cell_type": "markdown",
   "id": "a3700b20",
   "metadata": {},
   "source": [
    "### 10- \n",
    "Given this string, make a set of all words\n",
    "(You can use split and replace functions)"
   ]
  },
  {
   "cell_type": "code",
   "execution_count": 72,
   "id": "849f134b",
   "metadata": {},
   "outputs": [
    {
     "data": {
      "text/plain": [
       "'used web prototyping, be or systems. for development. rapid mathematics.Python server on read big production-ready and It a database perform applications.Python also to handle software complex connect files.Python modify can create workflows.Python data Python alongside'"
      ]
     },
     "execution_count": 72,
     "metadata": {},
     "output_type": "execute_result"
    }
   ],
   "source": [
    "my_string = '''Python can be used on a server to create web applications.\n",
    "Python can be used alongside software to create workflows.\n",
    "Python can connect to database systems. It can also read and modify files.\n",
    "Python can be used to handle big data and perform complex mathematics.\n",
    "Python can be used for rapid prototyping, or for production-ready software development.'''\n",
    "\n",
    "clean_string = my_string.replace(\"\\n\", \"\")\n",
    "\n",
    "words_of_string = clean_string.split(\" \")\n",
    "\n",
    "set_words_of_string = set(words_of_string)\n",
    "\n",
    "set_words_of_string = \" \".join([el for el in set_words_of_string])\n",
    "set_words_of_string\n"
   ]
  },
  {
   "cell_type": "code",
   "execution_count": 73,
   "id": "a6b68a2e",
   "metadata": {},
   "outputs": [
    {
     "name": "stdout",
     "output_type": "stream",
     "text": [
      "25.979158313283875\n"
     ]
    }
   ],
   "source": [
    "import math\n",
    "\n",
    "\n",
    "list = list(range(10, 100))\n",
    "\n",
    "mean_of_list = cal_mean(list)\n",
    "\n",
    "variance_of_list = 0\n",
    "\n",
    "for i in list:\n",
    "    variance_of_list += (i - mean_of_list)**2\n",
    "\n",
    "variance_of_list = math.sqrt(variance_of_list/len(list))\n",
    "\n",
    "print(variance_of_list)\n",
    "\n"
   ]
  }
 ],
 "metadata": {
  "kernelspec": {
   "display_name": "Python 3.9.12 ('base')",
   "language": "python",
   "name": "python3"
  },
  "language_info": {
   "codemirror_mode": {
    "name": "ipython",
    "version": 3
   },
   "file_extension": ".py",
   "mimetype": "text/x-python",
   "name": "python",
   "nbconvert_exporter": "python",
   "pygments_lexer": "ipython3",
   "version": "3.9.12"
  },
  "vscode": {
   "interpreter": {
    "hash": "341e0318612e13d2caac249865d6880347062171b89016abd70f7ef667022a97"
   }
  }
 },
 "nbformat": 4,
 "nbformat_minor": 5
}
